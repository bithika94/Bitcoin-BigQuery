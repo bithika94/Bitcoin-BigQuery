{
 "cells": [
  {
   "cell_type": "code",
   "execution_count": 59,
   "metadata": {},
   "outputs": [
    {
     "data": {
      "text/html": [
       "<div>\n",
       "<style scoped>\n",
       "    .dataframe tbody tr th:only-of-type {\n",
       "        vertical-align: middle;\n",
       "    }\n",
       "\n",
       "    .dataframe tbody tr th {\n",
       "        vertical-align: top;\n",
       "    }\n",
       "\n",
       "    .dataframe thead th {\n",
       "        text-align: right;\n",
       "    }\n",
       "</style>\n",
       "<table border=\"1\" class=\"dataframe\">\n",
       "  <thead>\n",
       "    <tr style=\"text-align: right;\">\n",
       "      <th></th>\n",
       "      <th>input_key</th>\n",
       "      <th>version</th>\n",
       "      <th>count</th>\n",
       "    </tr>\n",
       "  </thead>\n",
       "  <tbody>\n",
       "    <tr>\n",
       "      <th>0</th>\n",
       "      <td>1NxaBCFQwejSZbQfWcYNwgqML5wWoE3rK4</td>\n",
       "      <td>2</td>\n",
       "      <td>1059920</td>\n",
       "    </tr>\n",
       "    <tr>\n",
       "      <th>1</th>\n",
       "      <td>1dice8EMZmqKvrGE4Qc9bUFf9PX3xaYDp</td>\n",
       "      <td>1</td>\n",
       "      <td>810814</td>\n",
       "    </tr>\n",
       "    <tr>\n",
       "      <th>2</th>\n",
       "      <td>1dice8EMZmqKvrGE4Qc9bUFf9PX3xaYDp</td>\n",
       "      <td>2</td>\n",
       "      <td>788204</td>\n",
       "    </tr>\n",
       "    <tr>\n",
       "      <th>3</th>\n",
       "      <td>1dice97ECuByXAvqXpaYzSaQuPVvrtmz6</td>\n",
       "      <td>2</td>\n",
       "      <td>730050</td>\n",
       "    </tr>\n",
       "    <tr>\n",
       "      <th>4</th>\n",
       "      <td>1LuckyR1fFHEsXYyx5QK4UFzv3PEAepPMK</td>\n",
       "      <td>2</td>\n",
       "      <td>691581</td>\n",
       "    </tr>\n",
       "    <tr>\n",
       "      <th>5</th>\n",
       "      <td>1P9RQEr2XeE3PEb44ZE35sfZRRW1JHU8qx</td>\n",
       "      <td>536870912</td>\n",
       "      <td>663823</td>\n",
       "    </tr>\n",
       "    <tr>\n",
       "      <th>6</th>\n",
       "      <td>1J37CY8hcdUXQ1KfBhMCsUVafa8XjDsdCn</td>\n",
       "      <td>536870912</td>\n",
       "      <td>632291</td>\n",
       "    </tr>\n",
       "    <tr>\n",
       "      <th>7</th>\n",
       "      <td>1NxaBCFQwejSZbQfWcYNwgqML5wWoE3rK4</td>\n",
       "      <td>3</td>\n",
       "      <td>535545</td>\n",
       "    </tr>\n",
       "    <tr>\n",
       "      <th>8</th>\n",
       "      <td>1DUb2YYbQA1jjaNYzVXLZ7ZioEhLXtbUru</td>\n",
       "      <td>536870912</td>\n",
       "      <td>455031</td>\n",
       "    </tr>\n",
       "    <tr>\n",
       "      <th>9</th>\n",
       "      <td>1LAnF8h3qMGx3TSwNUHVneBZUEpwE4gu3D</td>\n",
       "      <td>536870912</td>\n",
       "      <td>415145</td>\n",
       "    </tr>\n",
       "  </tbody>\n",
       "</table>\n",
       "</div>"
      ],
      "text/plain": [
       "                            input_key    version    count\n",
       "0  1NxaBCFQwejSZbQfWcYNwgqML5wWoE3rK4          2  1059920\n",
       "1   1dice8EMZmqKvrGE4Qc9bUFf9PX3xaYDp          1   810814\n",
       "2   1dice8EMZmqKvrGE4Qc9bUFf9PX3xaYDp          2   788204\n",
       "3   1dice97ECuByXAvqXpaYzSaQuPVvrtmz6          2   730050\n",
       "4  1LuckyR1fFHEsXYyx5QK4UFzv3PEAepPMK          2   691581\n",
       "5  1P9RQEr2XeE3PEb44ZE35sfZRRW1JHU8qx  536870912   663823\n",
       "6  1J37CY8hcdUXQ1KfBhMCsUVafa8XjDsdCn  536870912   632291\n",
       "7  1NxaBCFQwejSZbQfWcYNwgqML5wWoE3rK4          3   535545\n",
       "8  1DUb2YYbQA1jjaNYzVXLZ7ZioEhLXtbUru  536870912   455031\n",
       "9  1LAnF8h3qMGx3TSwNUHVneBZUEpwE4gu3D  536870912   415145"
      ]
     },
     "execution_count": 59,
     "metadata": {},
     "output_type": "execute_result"
    }
   ],
   "source": [
    "#who did most of the transactions\n",
    "import pandas as pd \n",
    "import matplotlib.pyplot as plt\n",
    "import seaborn as sns\n",
    "import numpy as np\n",
    "#create a new instance of the bigquery client\n",
    "from google.cloud import bigquery\n",
    "\n",
    "client = bigquery.Client()\n",
    "\n",
    "#assign a variable to the query called query\n",
    "\n",
    "query = \"\"\"\n",
    "SELECT inputs.input_pubkey_base58 AS input_key, version , count(*) as count\n",
    "FROM `bigquery-public-data.bitcoin_blockchain.transactions`\n",
    "    JOIN UNNEST (inputs) AS inputs\n",
    "WHERE inputs.input_pubkey_base58 IS NOT NULL AND version IS NOT NULL\n",
    "GROUP BY inputs.input_pubkey_base58, version order by count(*) desc limit 100\n",
    "\"\"\"\n",
    "#execute query using the query method of our client instance and assign it to a variable \n",
    "query_job = client.query(query)\n",
    "\n",
    "iterator = query_job.result(timeout=30)\n",
    "#obtain a number of records using \n",
    "rows = list(iterator)\n",
    "\n",
    "# Transform the rows into a panda dataframe\n",
    "input_count = pd.DataFrame(data=[list(a.values()) for a in rows], columns=list(rows[0].keys()))\n",
    "input_count.head(10)"
   ]
  },
  {
   "cell_type": "code",
   "execution_count": 77,
   "metadata": {},
   "outputs": [
    {
     "data": {
      "text/html": [
       "<div>\n",
       "<style scoped>\n",
       "    .dataframe tbody tr th:only-of-type {\n",
       "        vertical-align: middle;\n",
       "    }\n",
       "\n",
       "    .dataframe tbody tr th {\n",
       "        vertical-align: top;\n",
       "    }\n",
       "\n",
       "    .dataframe thead th {\n",
       "        text-align: right;\n",
       "    }\n",
       "</style>\n",
       "<table border=\"1\" class=\"dataframe\">\n",
       "  <thead>\n",
       "    <tr style=\"text-align: right;\">\n",
       "      <th></th>\n",
       "      <th>version</th>\n",
       "      <th>count</th>\n",
       "    </tr>\n",
       "  </thead>\n",
       "  <tbody>\n",
       "    <tr>\n",
       "      <th>version</th>\n",
       "      <td>1.000000</td>\n",
       "      <td>-0.040172</td>\n",
       "    </tr>\n",
       "    <tr>\n",
       "      <th>count</th>\n",
       "      <td>-0.040172</td>\n",
       "      <td>1.000000</td>\n",
       "    </tr>\n",
       "  </tbody>\n",
       "</table>\n",
       "</div>"
      ],
      "text/plain": [
       "          version     count\n",
       "version  1.000000 -0.040172\n",
       "count   -0.040172  1.000000"
      ]
     },
     "execution_count": 77,
     "metadata": {},
     "output_type": "execute_result"
    }
   ],
   "source": [
    "#the correlation between version and count\n",
    "input_count.corr(method='pearson')"
   ]
  },
  {
   "cell_type": "code",
   "execution_count": 76,
   "metadata": {},
   "outputs": [
    {
     "data": {
      "text/plain": [
       "<matplotlib.axes._subplots.AxesSubplot at 0x1b6b33ac9b0>"
      ]
     },
     "execution_count": 76,
     "metadata": {},
     "output_type": "execute_result"
    },
    {
     "data": {
      "image/png": "[encoded data removed]",
      "text/plain": [
       "<Figure size 432x288 with 1 Axes>"
      ]
     },
     "metadata": {
      "needs_background": "light"
     },
     "output_type": "display_data"
    }
   ],
   "source": [
    "import matplotlib\n",
    "from matplotlib import pyplot as plt\n",
    "%matplotlib inline\n",
    "input_count.plot(x='input_key', y='count', style='o')"
   ]
  },
  {
   "cell_type": "code",
   "execution_count": 61,
   "metadata": {},
   "outputs": [
    {
     "data": {
      "text/html": [
       "<div>\n",
       "<style scoped>\n",
       "    .dataframe tbody tr th:only-of-type {\n",
       "        vertical-align: middle;\n",
       "    }\n",
       "\n",
       "    .dataframe tbody tr th {\n",
       "        vertical-align: top;\n",
       "    }\n",
       "\n",
       "    .dataframe thead th {\n",
       "        text-align: right;\n",
       "    }\n",
       "</style>\n",
       "<table border=\"1\" class=\"dataframe\">\n",
       "  <thead>\n",
       "    <tr style=\"text-align: right;\">\n",
       "      <th></th>\n",
       "      <th>day</th>\n",
       "      <th>recipients</th>\n",
       "    </tr>\n",
       "  </thead>\n",
       "  <tbody>\n",
       "    <tr>\n",
       "      <th>0</th>\n",
       "      <td>2009-01-09 00:00:00+00:00</td>\n",
       "      <td>0</td>\n",
       "    </tr>\n",
       "    <tr>\n",
       "      <th>1</th>\n",
       "      <td>2009-01-10 00:00:00+00:00</td>\n",
       "      <td>0</td>\n",
       "    </tr>\n",
       "    <tr>\n",
       "      <th>2</th>\n",
       "      <td>2009-01-11 00:00:00+00:00</td>\n",
       "      <td>0</td>\n",
       "    </tr>\n",
       "    <tr>\n",
       "      <th>3</th>\n",
       "      <td>2009-01-12 00:00:00+00:00</td>\n",
       "      <td>0</td>\n",
       "    </tr>\n",
       "    <tr>\n",
       "      <th>4</th>\n",
       "      <td>2009-01-13 00:00:00+00:00</td>\n",
       "      <td>0</td>\n",
       "    </tr>\n",
       "    <tr>\n",
       "      <th>5</th>\n",
       "      <td>2009-01-14 00:00:00+00:00</td>\n",
       "      <td>0</td>\n",
       "    </tr>\n",
       "    <tr>\n",
       "      <th>6</th>\n",
       "      <td>2009-01-15 00:00:00+00:00</td>\n",
       "      <td>0</td>\n",
       "    </tr>\n",
       "    <tr>\n",
       "      <th>7</th>\n",
       "      <td>2009-01-16 00:00:00+00:00</td>\n",
       "      <td>1</td>\n",
       "    </tr>\n",
       "    <tr>\n",
       "      <th>8</th>\n",
       "      <td>2009-01-17 00:00:00+00:00</td>\n",
       "      <td>0</td>\n",
       "    </tr>\n",
       "    <tr>\n",
       "      <th>9</th>\n",
       "      <td>2009-01-18 00:00:00+00:00</td>\n",
       "      <td>0</td>\n",
       "    </tr>\n",
       "  </tbody>\n",
       "</table>\n",
       "</div>"
      ],
      "text/plain": [
       "                        day  recipients\n",
       "0 2009-01-09 00:00:00+00:00           0\n",
       "1 2009-01-10 00:00:00+00:00           0\n",
       "2 2009-01-11 00:00:00+00:00           0\n",
       "3 2009-01-12 00:00:00+00:00           0\n",
       "4 2009-01-13 00:00:00+00:00           0\n",
       "5 2009-01-14 00:00:00+00:00           0\n",
       "6 2009-01-15 00:00:00+00:00           0\n",
       "7 2009-01-16 00:00:00+00:00           1\n",
       "8 2009-01-17 00:00:00+00:00           0\n",
       "9 2009-01-18 00:00:00+00:00           0"
      ]
     },
     "execution_count": 61,
     "metadata": {},
     "output_type": "execute_result"
    }
   ],
   "source": [
    "#In the first ten days of the Bitcoin Blockchain, only one transaction was recorded on January 16th, 2009\n",
    "query = \"\"\"\n",
    "SELECT\n",
    "  o.day,\n",
    "  COUNT(DISTINCT(o.output_key)) AS recipients\n",
    "FROM (\n",
    "  SELECT\n",
    "    TIMESTAMP_MILLIS((timestamp - MOD(timestamp,\n",
    "          86400000))) AS day,\n",
    "    output.output_pubkey_base58 AS output_key\n",
    "  FROM\n",
    "    `bigquery-public-data.bitcoin_blockchain.transactions`,\n",
    "    UNNEST(outputs) AS output ) AS o\n",
    "GROUP BY\n",
    "  day\n",
    "ORDER BY\n",
    "  day\n",
    "\"\"\"\n",
    "#execute query using the query method of our client instance and assign it to a variable \n",
    "query_job = client.query(query)\n",
    "\n",
    "iterator = query_job.result(timeout=30)\n",
    "#obtain a number of records using \n",
    "rows = list(iterator)\n",
    "\n",
    "# Transform the rows into a panda dataframe\n",
    "rec = pd.DataFrame(data=[list(a.values()) for a in rows], columns=list(rows[0].keys()))\n",
    "rec.head(10)"
   ]
  },
  {
   "cell_type": "code",
   "execution_count": 62,
   "metadata": {},
   "outputs": [
    {
     "data": {
      "text/plain": [
       "<matplotlib.axes._subplots.AxesSubplot at 0x1b6b192f2b0>"
      ]
     },
     "execution_count": 62,
     "metadata": {},
     "output_type": "execute_result"
    },
    {
     "data": {
      "image/png": "[encoded data removed]",
      "text/plain": [
       "<Figure size 432x288 with 1 Axes>"
      ]
     },
     "metadata": {
      "needs_background": "light"
     },
     "output_type": "display_data"
    }
   ],
   "source": [
    "#the number of daily recipients has grown dramatically\n",
    "import matplotlib\n",
    "from matplotlib import pyplot as plt\n",
    "%matplotlib inline\n",
    "rec.plot(x='day', y='recipients')"
   ]
  },
  {
   "cell_type": "code",
   "execution_count": 75,
   "metadata": {},
   "outputs": [
    {
     "data": {
      "text/html": [
       "<div>\n",
       "<style scoped>\n",
       "    .dataframe tbody tr th:only-of-type {\n",
       "        vertical-align: middle;\n",
       "    }\n",
       "\n",
       "    .dataframe tbody tr th {\n",
       "        vertical-align: top;\n",
       "    }\n",
       "\n",
       "    .dataframe thead th {\n",
       "        text-align: right;\n",
       "    }\n",
       "</style>\n",
       "<table border=\"1\" class=\"dataframe\">\n",
       "  <thead>\n",
       "    <tr style=\"text-align: right;\">\n",
       "      <th></th>\n",
       "      <th>recipients</th>\n",
       "    </tr>\n",
       "  </thead>\n",
       "  <tbody>\n",
       "    <tr>\n",
       "      <th>recipients</th>\n",
       "      <td>1.0</td>\n",
       "    </tr>\n",
       "  </tbody>\n",
       "</table>\n",
       "</div>"
      ],
      "text/plain": [
       "            recipients\n",
       "recipients         1.0"
      ]
     },
     "execution_count": 75,
     "metadata": {},
     "output_type": "execute_result"
    }
   ],
   "source": [
    "rec.corr(method='pearson')"
   ]
  },
  {
   "cell_type": "code",
   "execution_count": null,
   "metadata": {},
   "outputs": [],
   "source": []
  }
 ],
 "metadata": {
  "kernelspec": {
   "display_name": "Python 3",
   "language": "python",
   "name": "python3"
  },
  "language_info": {
   "codemirror_mode": {
    "name": "ipython",
    "version": 3
   },
   "file_extension": ".py",
   "mimetype": "text/x-python",
   "name": "python",
   "nbconvert_exporter": "python",
   "pygments_lexer": "ipython3",
   "version": "3.7.0"
  }
 },
 "nbformat": 4,
 "nbformat_minor": 2
}
